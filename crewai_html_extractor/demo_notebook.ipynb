{
 "cells": [
  {
   "cell_type": "code",
   "execution_count": 2,
   "id": "fcffa844",
   "metadata": {},
   "outputs": [
    {
     "name": "stdout",
     "output_type": "stream",
     "text": [
      "Título: INE. Instituto Nacional de EstadÃ­stica\n",
      "Meta description: INE. Instituto Nacional de Estadística. National Statistics Institute. Spanish Statistical Office. El INE elabora y distribuye estadisticas de Espana. Este servidor contiene: Censos de Poblacion y Viviendas 2001, Informacion general, Productos de difusion, Espana en cifras, Datos coyunturales, Datos municipales, etc.. Q2016.es\n",
      "Tablas detectadas: 0\n"
     ]
    }
   ],
   "source": [
    "from crewai_html_extractor.scraper.orchestrator import Orchestrator\n",
    "\n",
    "orch = Orchestrator(use_crewai=False)\n",
    "rec = orch.run_once(\"https://www.ine.es/\")\n",
    "\n",
    "print(\"Título:\", rec[\"title\"])\n",
    "print(\"Meta description:\", rec[\"meta_description\"])\n",
    "print(\"Tablas detectadas:\", len(rec[\"data_items\"]))\n"
   ]
  },
  {
   "cell_type": "code",
   "execution_count": 3,
   "id": "ef50481e",
   "metadata": {},
   "outputs": [],
   "source": [
    "import pandas as pd\n",
    "\n",
    "tbls = [x for x in rec[\"data_items\"] if x[\"type\"] == \"table\"]\n",
    "if tbls:\n",
    "    df = pd.DataFrame(tbls[0][\"data\"], columns=tbls[0][\"schema\"])\n",
    "    display(df.head())\n",
    "\n"
   ]
  }
 ],
 "metadata": {
  "kernelspec": {
   "display_name": ".venv",
   "language": "python",
   "name": "python3"
  },
  "language_info": {
   "codemirror_mode": {
    "name": "ipython",
    "version": 3
   },
   "file_extension": ".py",
   "mimetype": "text/x-python",
   "name": "python",
   "nbconvert_exporter": "python",
   "pygments_lexer": "ipython3",
   "version": "3.12.3"
  }
 },
 "nbformat": 4,
 "nbformat_minor": 5
}
